{
 "cells": [
  {
   "cell_type": "markdown",
   "id": "28a65e3f",
   "metadata": {},
   "source": [
    "## **Librerías**"
   ]
  },
  {
   "cell_type": "code",
   "execution_count": 1,
   "id": "373252d1",
   "metadata": {},
   "outputs": [],
   "source": [
    "import polars as pl"
   ]
  },
  {
   "cell_type": "code",
   "execution_count": 2,
   "id": "d34242f4",
   "metadata": {},
   "outputs": [],
   "source": [
    "import datetime as dt"
   ]
  },
  {
   "cell_type": "markdown",
   "id": "1583733c",
   "metadata": {},
   "source": [
    "## **Introducción**"
   ]
  },
  {
   "cell_type": "markdown",
   "id": "e1534f40",
   "metadata": {},
   "source": [
    "### **Creación de DataFrames**"
   ]
  },
  {
   "cell_type": "code",
   "execution_count": 48,
   "id": "5f640bfb",
   "metadata": {},
   "outputs": [
    {
     "data": {
      "text/html": [
       "<div><style>\n",
       ".dataframe > thead > tr,\n",
       ".dataframe > tbody > tr {\n",
       "  text-align: right;\n",
       "  white-space: pre-wrap;\n",
       "}\n",
       "</style>\n",
       "<small>shape: (4, 5)</small><table border=\"1\" class=\"dataframe\"><thead><tr><th>Name</th><th>Birthdate</th><th>Weight</th><th>Height</th><th>Age</th></tr><tr><td>str</td><td>date</td><td>f64</td><td>f64</td><td>i64</td></tr></thead><tbody><tr><td>&quot;Alice&quot;</td><td>1997-01-30</td><td>57.9</td><td>1.65</td><td>28</td></tr><tr><td>&quot;Bob&quot;</td><td>1998-07-03</td><td>72.5</td><td>1.8</td><td>27</td></tr><tr><td>&quot;Charlie&quot;</td><td>1999-12-14</td><td>53.6</td><td>1.7</td><td>26</td></tr><tr><td>&quot;Dianne&quot;</td><td>1994-10-13</td><td>83.1</td><td>1.75</td><td>25</td></tr></tbody></table></div>"
      ],
      "text/plain": [
       "shape: (4, 5)\n",
       "┌─────────┬────────────┬────────┬────────┬─────┐\n",
       "│ Name    ┆ Birthdate  ┆ Weight ┆ Height ┆ Age │\n",
       "│ ---     ┆ ---        ┆ ---    ┆ ---    ┆ --- │\n",
       "│ str     ┆ date       ┆ f64    ┆ f64    ┆ i64 │\n",
       "╞═════════╪════════════╪════════╪════════╪═════╡\n",
       "│ Alice   ┆ 1997-01-30 ┆ 57.9   ┆ 1.65   ┆ 28  │\n",
       "│ Bob     ┆ 1998-07-03 ┆ 72.5   ┆ 1.8    ┆ 27  │\n",
       "│ Charlie ┆ 1999-12-14 ┆ 53.6   ┆ 1.7    ┆ 26  │\n",
       "│ Dianne  ┆ 1994-10-13 ┆ 83.1   ┆ 1.75   ┆ 25  │\n",
       "└─────────┴────────────┴────────┴────────┴─────┘"
      ]
     },
     "execution_count": 48,
     "metadata": {},
     "output_type": "execute_result"
    }
   ],
   "source": [
    "# Crear un DataFrame\n",
    "df = pl.DataFrame({\n",
    "    'Name': ['Alice', 'Bob', 'Charlie', 'Dianne'],\n",
    "    'Birthdate': [\n",
    "        dt.date(1997, 1, 30),\n",
    "        dt.date(1998, 7, 3),\n",
    "        dt.date(1999, 12, 14),\n",
    "        dt.date(1994, 10, 13),\n",
    "    ],\n",
    "    'Weight': [57.9, 72.5, 53.6, 83.1],\n",
    "    'Height': [1.65, 1.80, 1.70, 1.75],\n",
    "    'Age': [28, 27, 26, 25] \n",
    "})\n",
    "\n",
    "df"
   ]
  },
  {
   "cell_type": "code",
   "execution_count": null,
   "id": "0fec854f",
   "metadata": {},
   "outputs": [
    {
     "data": {
      "text/html": [
       "<div><style>\n",
       ".dataframe > thead > tr,\n",
       ".dataframe > tbody > tr {\n",
       "  text-align: right;\n",
       "  white-space: pre-wrap;\n",
       "}\n",
       "</style>\n",
       "<small>shape: (1, 4)</small><table border=\"1\" class=\"dataframe\"><thead><tr><th>Name</th><th>Birthdate</th><th>Weight</th><th>Age</th></tr><tr><td>str</td><td>date</td><td>f64</td><td>i64</td></tr></thead><tbody><tr><td>&quot;Alice&quot;</td><td>1997-01-30</td><td>57.9</td><td>28</td></tr></tbody></table></div>"
      ],
      "text/plain": [
       "shape: (1, 4)\n",
       "┌───────┬────────────┬────────┬─────┐\n",
       "│ Name  ┆ Birthdate  ┆ Weight ┆ Age │\n",
       "│ ---   ┆ ---        ┆ ---    ┆ --- │\n",
       "│ str   ┆ date       ┆ f64    ┆ i64 │\n",
       "╞═══════╪════════════╪════════╪═════╡\n",
       "│ Alice ┆ 1997-01-30 ┆ 57.9   ┆ 28  │\n",
       "└───────┴────────────┴────────┴─────┘"
      ]
     },
     "execution_count": 24,
     "metadata": {},
     "output_type": "execute_result"
    }
   ],
   "source": [
    "# Mostrar el primer registro del DataFrame\n",
    "df.head(1)"
   ]
  },
  {
   "cell_type": "code",
   "execution_count": null,
   "id": "2fcecf04",
   "metadata": {},
   "outputs": [
    {
     "data": {
      "text/html": [
       "<div><style>\n",
       ".dataframe > thead > tr,\n",
       ".dataframe > tbody > tr {\n",
       "  text-align: right;\n",
       "  white-space: pre-wrap;\n",
       "}\n",
       "</style>\n",
       "<small>shape: (1, 4)</small><table border=\"1\" class=\"dataframe\"><thead><tr><th>Name</th><th>Birthdate</th><th>Weight</th><th>Age</th></tr><tr><td>str</td><td>date</td><td>f64</td><td>i64</td></tr></thead><tbody><tr><td>&quot;Dianne&quot;</td><td>1994-10-13</td><td>83.1</td><td>25</td></tr></tbody></table></div>"
      ],
      "text/plain": [
       "shape: (1, 4)\n",
       "┌────────┬────────────┬────────┬─────┐\n",
       "│ Name   ┆ Birthdate  ┆ Weight ┆ Age │\n",
       "│ ---    ┆ ---        ┆ ---    ┆ --- │\n",
       "│ str    ┆ date       ┆ f64    ┆ i64 │\n",
       "╞════════╪════════════╪════════╪═════╡\n",
       "│ Dianne ┆ 1994-10-13 ┆ 83.1   ┆ 25  │\n",
       "└────────┴────────────┴────────┴─────┘"
      ]
     },
     "execution_count": 25,
     "metadata": {},
     "output_type": "execute_result"
    }
   ],
   "source": [
    "# Mostrar el último registro del DataFrame\n",
    "df.tail(1)"
   ]
  },
  {
   "cell_type": "code",
   "execution_count": null,
   "id": "94ff7637",
   "metadata": {},
   "outputs": [
    {
     "data": {
      "text/html": [
       "<div><style>\n",
       ".dataframe > thead > tr,\n",
       ".dataframe > tbody > tr {\n",
       "  text-align: right;\n",
       "  white-space: pre-wrap;\n",
       "}\n",
       "</style>\n",
       "<small>shape: (1, 4)</small><table border=\"1\" class=\"dataframe\"><thead><tr><th>Name</th><th>Birthdate</th><th>Weight</th><th>Age</th></tr><tr><td>str</td><td>date</td><td>f64</td><td>i64</td></tr></thead><tbody><tr><td>&quot;Bob&quot;</td><td>1998-07-03</td><td>72.5</td><td>27</td></tr></tbody></table></div>"
      ],
      "text/plain": [
       "shape: (1, 4)\n",
       "┌──────┬────────────┬────────┬─────┐\n",
       "│ Name ┆ Birthdate  ┆ Weight ┆ Age │\n",
       "│ ---  ┆ ---        ┆ ---    ┆ --- │\n",
       "│ str  ┆ date       ┆ f64    ┆ i64 │\n",
       "╞══════╪════════════╪════════╪═════╡\n",
       "│ Bob  ┆ 1998-07-03 ┆ 72.5   ┆ 27  │\n",
       "└──────┴────────────┴────────┴─────┘"
      ]
     },
     "execution_count": 26,
     "metadata": {},
     "output_type": "execute_result"
    }
   ],
   "source": [
    "# Mostrar un registro aleatorio del DataFrame\n",
    "df.sample(1)"
   ]
  },
  {
   "cell_type": "code",
   "execution_count": 8,
   "id": "de47e6d6",
   "metadata": {},
   "outputs": [
    {
     "data": {
      "text/plain": [
       "(4, 4)"
      ]
     },
     "execution_count": 8,
     "metadata": {},
     "output_type": "execute_result"
    }
   ],
   "source": [
    "# Ver las dimenriones del DataFrame\n",
    "df.shape"
   ]
  },
  {
   "cell_type": "code",
   "execution_count": null,
   "id": "a6e33044",
   "metadata": {},
   "outputs": [
    {
     "data": {
      "text/html": [
       "<div><style>\n",
       ".dataframe > thead > tr,\n",
       ".dataframe > tbody > tr {\n",
       "  text-align: right;\n",
       "  white-space: pre-wrap;\n",
       "}\n",
       "</style>\n",
       "<small>shape: (9, 5)</small><table border=\"1\" class=\"dataframe\"><thead><tr><th>statistic</th><th>Name</th><th>Birthdate</th><th>Weight</th><th>Age</th></tr><tr><td>str</td><td>str</td><td>str</td><td>f64</td><td>f64</td></tr></thead><tbody><tr><td>&quot;count&quot;</td><td>&quot;4&quot;</td><td>&quot;4&quot;</td><td>4.0</td><td>4.0</td></tr><tr><td>&quot;null_count&quot;</td><td>&quot;0&quot;</td><td>&quot;0&quot;</td><td>0.0</td><td>0.0</td></tr><tr><td>&quot;mean&quot;</td><td>null</td><td>&quot;1997-07-30 18:00:00&quot;</td><td>66.775</td><td>26.5</td></tr><tr><td>&quot;std&quot;</td><td>null</td><td>null</td><td>13.560082</td><td>1.290994</td></tr><tr><td>&quot;min&quot;</td><td>&quot;Alice&quot;</td><td>&quot;1994-10-13&quot;</td><td>53.6</td><td>25.0</td></tr><tr><td>&quot;25%&quot;</td><td>null</td><td>&quot;1997-01-30&quot;</td><td>57.9</td><td>26.0</td></tr><tr><td>&quot;50%&quot;</td><td>null</td><td>&quot;1998-07-03&quot;</td><td>72.5</td><td>27.0</td></tr><tr><td>&quot;75%&quot;</td><td>null</td><td>&quot;1998-07-03&quot;</td><td>72.5</td><td>27.0</td></tr><tr><td>&quot;max&quot;</td><td>&quot;Dianne&quot;</td><td>&quot;1999-12-14&quot;</td><td>83.1</td><td>28.0</td></tr></tbody></table></div>"
      ],
      "text/plain": [
       "shape: (9, 5)\n",
       "┌────────────┬────────┬─────────────────────┬───────────┬──────────┐\n",
       "│ statistic  ┆ Name   ┆ Birthdate           ┆ Weight    ┆ Age      │\n",
       "│ ---        ┆ ---    ┆ ---                 ┆ ---       ┆ ---      │\n",
       "│ str        ┆ str    ┆ str                 ┆ f64       ┆ f64      │\n",
       "╞════════════╪════════╪═════════════════════╪═══════════╪══════════╡\n",
       "│ count      ┆ 4      ┆ 4                   ┆ 4.0       ┆ 4.0      │\n",
       "│ null_count ┆ 0      ┆ 0                   ┆ 0.0       ┆ 0.0      │\n",
       "│ mean       ┆ null   ┆ 1997-07-30 18:00:00 ┆ 66.775    ┆ 26.5     │\n",
       "│ std        ┆ null   ┆ null                ┆ 13.560082 ┆ 1.290994 │\n",
       "│ min        ┆ Alice  ┆ 1994-10-13          ┆ 53.6      ┆ 25.0     │\n",
       "│ 25%        ┆ null   ┆ 1997-01-30          ┆ 57.9      ┆ 26.0     │\n",
       "│ 50%        ┆ null   ┆ 1998-07-03          ┆ 72.5      ┆ 27.0     │\n",
       "│ 75%        ┆ null   ┆ 1998-07-03          ┆ 72.5      ┆ 27.0     │\n",
       "│ max        ┆ Dianne ┆ 1999-12-14          ┆ 83.1      ┆ 28.0     │\n",
       "└────────────┴────────┴─────────────────────┴───────────┴──────────┘"
      ]
     },
     "execution_count": 11,
     "metadata": {},
     "output_type": "execute_result"
    }
   ],
   "source": [
    "# Ver la distribución del DataFrame\n",
    "df.describe()"
   ]
  },
  {
   "cell_type": "code",
   "execution_count": 18,
   "id": "9d0d00dc",
   "metadata": {},
   "outputs": [],
   "source": [
    "# Guardar el DataFrame\n",
    "df.write_csv('../Data/Dataframe.csv')\n",
    "df.write_excel('../Data/Dataframe.xlsx')\n",
    "df.write_parquet('../Data/Dataframe.parquet')"
   ]
  },
  {
   "cell_type": "code",
   "execution_count": 21,
   "id": "ead80aec",
   "metadata": {},
   "outputs": [
    {
     "data": {
      "text/html": [
       "<div><style>\n",
       ".dataframe > thead > tr,\n",
       ".dataframe > tbody > tr {\n",
       "  text-align: right;\n",
       "  white-space: pre-wrap;\n",
       "}\n",
       "</style>\n",
       "<small>shape: (4, 4)</small><table border=\"1\" class=\"dataframe\"><thead><tr><th>Name</th><th>Birthdate</th><th>Weight</th><th>Age</th></tr><tr><td>str</td><td>date</td><td>f64</td><td>i64</td></tr></thead><tbody><tr><td>&quot;Alice&quot;</td><td>1997-01-30</td><td>57.9</td><td>28</td></tr><tr><td>&quot;Bob&quot;</td><td>1998-07-03</td><td>72.5</td><td>27</td></tr><tr><td>&quot;Charlie&quot;</td><td>1999-12-14</td><td>53.6</td><td>26</td></tr><tr><td>&quot;Dianne&quot;</td><td>1994-10-13</td><td>83.1</td><td>25</td></tr></tbody></table></div>"
      ],
      "text/plain": [
       "shape: (4, 4)\n",
       "┌─────────┬────────────┬────────┬─────┐\n",
       "│ Name    ┆ Birthdate  ┆ Weight ┆ Age │\n",
       "│ ---     ┆ ---        ┆ ---    ┆ --- │\n",
       "│ str     ┆ date       ┆ f64    ┆ i64 │\n",
       "╞═════════╪════════════╪════════╪═════╡\n",
       "│ Alice   ┆ 1997-01-30 ┆ 57.9   ┆ 28  │\n",
       "│ Bob     ┆ 1998-07-03 ┆ 72.5   ┆ 27  │\n",
       "│ Charlie ┆ 1999-12-14 ┆ 53.6   ┆ 26  │\n",
       "│ Dianne  ┆ 1994-10-13 ┆ 83.1   ┆ 25  │\n",
       "└─────────┴────────────┴────────┴─────┘"
      ]
     },
     "execution_count": 21,
     "metadata": {},
     "output_type": "execute_result"
    }
   ],
   "source": [
    "# Leer el Dataframe\n",
    "df = pl.read_parquet('../Data/Dataframe.parquet')\n",
    "df"
   ]
  },
  {
   "cell_type": "markdown",
   "id": "bb450d90",
   "metadata": {},
   "source": [
    "### **Operaciones**"
   ]
  },
  {
   "cell_type": "code",
   "execution_count": 55,
   "id": "84b20fc7",
   "metadata": {},
   "outputs": [
    {
     "data": {
      "text/html": [
       "<div><style>\n",
       ".dataframe > thead > tr,\n",
       ".dataframe > tbody > tr {\n",
       "  text-align: right;\n",
       "  white-space: pre-wrap;\n",
       "}\n",
       "</style>\n",
       "<small>shape: (4, 6)</small><table border=\"1\" class=\"dataframe\"><thead><tr><th>Name</th><th>Birthdate</th><th>Birth_Year</th><th>Weight_cm</th><th>Height_cm</th><th>BMI</th></tr><tr><td>str</td><td>date</td><td>i32</td><td>f64</td><td>f64</td><td>f64</td></tr></thead><tbody><tr><td>&quot;Alice&quot;</td><td>1997-01-30</td><td>1997</td><td>57.9</td><td>1.65</td><td>21.267218</td></tr><tr><td>&quot;Bob&quot;</td><td>1998-07-03</td><td>1998</td><td>72.5</td><td>1.8</td><td>22.376543</td></tr><tr><td>&quot;Charlie&quot;</td><td>1999-12-14</td><td>1999</td><td>53.6</td><td>1.7</td><td>18.546713</td></tr><tr><td>&quot;Dianne&quot;</td><td>1994-10-13</td><td>1994</td><td>83.1</td><td>1.75</td><td>27.134694</td></tr></tbody></table></div>"
      ],
      "text/plain": [
       "shape: (4, 6)\n",
       "┌─────────┬────────────┬────────────┬───────────┬───────────┬───────────┐\n",
       "│ Name    ┆ Birthdate  ┆ Birth_Year ┆ Weight_cm ┆ Height_cm ┆ BMI       │\n",
       "│ ---     ┆ ---        ┆ ---        ┆ ---       ┆ ---       ┆ ---       │\n",
       "│ str     ┆ date       ┆ i32        ┆ f64       ┆ f64       ┆ f64       │\n",
       "╞═════════╪════════════╪════════════╪═══════════╪═══════════╪═══════════╡\n",
       "│ Alice   ┆ 1997-01-30 ┆ 1997       ┆ 57.9      ┆ 1.65      ┆ 21.267218 │\n",
       "│ Bob     ┆ 1998-07-03 ┆ 1998       ┆ 72.5      ┆ 1.8       ┆ 22.376543 │\n",
       "│ Charlie ┆ 1999-12-14 ┆ 1999       ┆ 53.6      ┆ 1.7       ┆ 18.546713 │\n",
       "│ Dianne  ┆ 1994-10-13 ┆ 1994       ┆ 83.1      ┆ 1.75      ┆ 27.134694 │\n",
       "└─────────┴────────────┴────────────┴───────────┴───────────┴───────────┘"
      ]
     },
     "execution_count": 55,
     "metadata": {},
     "output_type": "execute_result"
    }
   ],
   "source": [
    "result = df.select(\n",
    "    pl.col('Name'),\n",
    "    pl.col('Birthdate'),\n",
    "    pl.col('Birthdate').dt.year().alias('Birth_Year'),\n",
    "    pl.col('Weight', 'Height').name.suffix('_cm'),\n",
    "    (pl.col('Weight') / (pl.col('Height') ** 2)).alias('BMI')\n",
    ")\n",
    "\n",
    "result"
   ]
  },
  {
   "cell_type": "code",
   "execution_count": null,
   "id": "cd54ea36",
   "metadata": {},
   "outputs": [],
   "source": []
  },
  {
   "cell_type": "code",
   "execution_count": null,
   "id": "89c67dd3",
   "metadata": {},
   "outputs": [],
   "source": []
  },
  {
   "cell_type": "code",
   "execution_count": null,
   "id": "64aa5a7e",
   "metadata": {},
   "outputs": [],
   "source": []
  },
  {
   "cell_type": "code",
   "execution_count": null,
   "id": "eec45c7a",
   "metadata": {},
   "outputs": [],
   "source": []
  },
  {
   "cell_type": "code",
   "execution_count": null,
   "id": "7e94c2c8",
   "metadata": {},
   "outputs": [],
   "source": []
  }
 ],
 "metadata": {
  "kernelspec": {
   "display_name": "polars-Kd-k1S-q-py3.12",
   "language": "python",
   "name": "python3"
  },
  "language_info": {
   "codemirror_mode": {
    "name": "ipython",
    "version": 3
   },
   "file_extension": ".py",
   "mimetype": "text/x-python",
   "name": "python",
   "nbconvert_exporter": "python",
   "pygments_lexer": "ipython3",
   "version": "3.12.2"
  }
 },
 "nbformat": 4,
 "nbformat_minor": 5
}
