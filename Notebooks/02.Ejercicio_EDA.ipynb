{
 "cells": [
  {
   "cell_type": "markdown",
   "id": "83e1b954",
   "metadata": {},
   "source": [
    "## **Librerías**"
   ]
  },
  {
   "cell_type": "code",
   "execution_count": 1,
   "id": "27dcd445",
   "metadata": {},
   "outputs": [],
   "source": [
    "import polars as pl"
   ]
  },
  {
   "cell_type": "code",
   "execution_count": 4,
   "id": "d25410f2",
   "metadata": {},
   "outputs": [],
   "source": [
    "import json"
   ]
  },
  {
   "cell_type": "markdown",
   "id": "aa8c4436",
   "metadata": {},
   "source": [
    "## **Data**"
   ]
  },
  {
   "cell_type": "code",
   "execution_count": 11,
   "id": "5dd5ea73",
   "metadata": {},
   "outputs": [],
   "source": [
    "with open('../Data/Raw/characters.json', 'r') as file:\n",
    "    data_characters = json.load(file)"
   ]
  },
  {
   "cell_type": "code",
   "execution_count": 36,
   "id": "2ab00a41",
   "metadata": {},
   "outputs": [],
   "source": [
    "data_characters_detail = data_characters['characters']\n",
    "\n",
    "features = []\n",
    "\n",
    "df_characters = pl.DataFrame()\n",
    "\n",
    "for character in data_characters_detail:\n",
    "    for feature in character:\n",
    "        features.append(feature)\n",
    "\n",
    "features = list(set(features))"
   ]
  },
  {
   "cell_type": "code",
   "execution_count": 35,
   "id": "6a646855",
   "metadata": {},
   "outputs": [
    {
     "data": {
      "text/plain": [
       "['characterImageFull',\n",
       " 'guardianOf',\n",
       " 'actorLink',\n",
       " 'killedBy',\n",
       " 'sibling',\n",
       " 'guardedBy',\n",
       " 'serves',\n",
       " 'royal',\n",
       " 'nickname',\n",
       " 'killed',\n",
       " 'servedBy',\n",
       " 'abductedBy',\n",
       " 'actorName',\n",
       " 'characterName',\n",
       " 'houseName',\n",
       " 'allies',\n",
       " 'parentOf',\n",
       " 'characterImageThumb',\n",
       " 'marriedEngaged',\n",
       " 'actors',\n",
       " 'kingsguard',\n",
       " 'parents',\n",
       " 'siblings',\n",
       " 'abducted',\n",
       " 'characterLink']"
      ]
     },
     "execution_count": 35,
     "metadata": {},
     "output_type": "execute_result"
    }
   ],
   "source": [
    "features"
   ]
  },
  {
   "cell_type": "code",
   "execution_count": null,
   "id": "66dfd46e",
   "metadata": {},
   "outputs": [],
   "source": []
  }
 ],
 "metadata": {
  "kernelspec": {
   "display_name": "polars-Kd-k1S-q-py3.12",
   "language": "python",
   "name": "python3"
  },
  "language_info": {
   "codemirror_mode": {
    "name": "ipython",
    "version": 3
   },
   "file_extension": ".py",
   "mimetype": "text/x-python",
   "name": "python",
   "nbconvert_exporter": "python",
   "pygments_lexer": "ipython3",
   "version": "3.12.2"
  }
 },
 "nbformat": 4,
 "nbformat_minor": 5
}
